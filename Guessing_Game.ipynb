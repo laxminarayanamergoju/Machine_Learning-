{
 "cells": [
  {
   "cell_type": "markdown",
   "id": "20412cda",
   "metadata": {},
   "source": [
    "# GUESSING GAME PYTHON BASIC"
   ]
  },
  {
   "cell_type": "code",
   "execution_count": null,
   "id": "58801139",
   "metadata": {},
   "outputs": [],
   "source": [
    "print(\"Welcome to game...\")\n",
    "print(\"iam thinking numbers from 0-100\")\n",
    "print(\"if its in range of 10numbers different we say WARM ,else COLD \")\n",
    "print(\"If guess is more fast then the anyone we say COLD\")\n",
    "print(\"If guess is more slow then then top we say WARM\")\n",
    "print(\"LETS PLAY THE GAME.....\")"
   ]
  },
  {
   "cell_type": "code",
   "execution_count": null,
   "id": "161fd1c0",
   "metadata": {},
   "outputs": [],
   "source": [
    "name=input(\"Enter your name\")"
   ]
  },
  {
   "cell_type": "code",
   "execution_count": null,
   "id": "ec510878",
   "metadata": {},
   "outputs": [],
   "source": [
    "from random import randint"
   ]
  },
  {
   "cell_type": "code",
   "execution_count": null,
   "id": "d8723ad8",
   "metadata": {},
   "outputs": [],
   "source": [
    "num=randint(1,101)"
   ]
  },
  {
   "cell_type": "code",
   "execution_count": null,
   "id": "7d0f6e0c",
   "metadata": {},
   "outputs": [],
   "source": [
    "guesses=[0]\n",
    "while True:\n",
    "    guess=int(input('guess the number between 1 and 100'))\n",
    "    if guess>100 or guess<1:\n",
    "        print(\"out of bond. enter in range. try again\")\n",
    "        continue\n",
    "    if guess==num:\n",
    "        print(\"Cong.. you are correct....in just {} attempt..\".format(len(guesses)))\n",
    "        break\n",
    "    guesses.append(guess)\n",
    "    if guesses[-2]:\n",
    "        if abs(num-guess)<abs(num.guesses[-2]):\n",
    "            print(\"WARM..\")\n",
    "        else:\n",
    "            print(\"COLD..\")\n",
    "    else:\n",
    "        if abs(num.guess)<=10:\n",
    "            print(\"WARM..\")\n",
    "        else:\n",
    "            print(\"COLD..\")\n",
    "    "
   ]
  },
  {
   "cell_type": "code",
   "execution_count": null,
   "id": "07df6e90",
   "metadata": {},
   "outputs": [],
   "source": []
  },
  {
   "cell_type": "code",
   "execution_count": null,
   "id": "14b32893",
   "metadata": {},
   "outputs": [],
   "source": []
  }
 ],
 "metadata": {
  "kernelspec": {
   "display_name": "Python 3 (ipykernel)",
   "language": "python",
   "name": "python3"
  },
  "language_info": {
   "codemirror_mode": {
    "name": "ipython",
    "version": 3
   },
   "file_extension": ".py",
   "mimetype": "text/x-python",
   "name": "python",
   "nbconvert_exporter": "python",
   "pygments_lexer": "ipython3",
   "version": "3.10.8"
  }
 },
 "nbformat": 4,
 "nbformat_minor": 5
}
