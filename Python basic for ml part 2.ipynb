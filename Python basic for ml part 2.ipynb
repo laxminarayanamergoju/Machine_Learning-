{
 "cells": [
  {
   "cell_type": "markdown",
   "id": "17ee9102",
   "metadata": {},
   "source": [
    "# Python for ML"
   ]
  },
  {
   "cell_type": "code",
   "execution_count": 3,
   "id": "fea19b8e",
   "metadata": {},
   "outputs": [
    {
     "data": {
      "text/plain": [
       "[0, 2, 4, 6, 8]"
      ]
     },
     "execution_count": 3,
     "metadata": {},
     "output_type": "execute_result"
    }
   ],
   "source": [
    "list(range(0,10,2))"
   ]
  },
  {
   "cell_type": "code",
   "execution_count": 8,
   "id": "650995a7",
   "metadata": {},
   "outputs": [
    {
     "name": "stdout",
     "output_type": "stream",
     "text": [
      "index 0 is b\n",
      "index 1 is u\n",
      "index 2 is n\n",
      "index 3 is n\n",
      "index 4 is y\n"
     ]
    }
   ],
   "source": [
    "str1=\"bunny\"\n",
    "inx_num=0\n",
    "for letters in str1:\n",
    "    print(\"index {} is {}\".format (inx_num,letters))\n",
    "    inx_num+=1"
   ]
  },
  {
   "cell_type": "code",
   "execution_count": 10,
   "id": "08d965a8",
   "metadata": {},
   "outputs": [
    {
     "name": "stdout",
     "output_type": "stream",
     "text": [
      "index 0 is b\n",
      "index 1 is u\n",
      "index 2 is n\n",
      "index 3 is n\n",
      "index 4 is y\n"
     ]
    }
   ],
   "source": [
    "str1=\"bunny\"\n",
    "\n",
    "for i,letters in enumerate(str1):\n",
    "    print(\"index {} is {}\".format (i,letters))"
   ]
  },
  {
   "cell_type": "code",
   "execution_count": 11,
   "id": "89d65f0d",
   "metadata": {},
   "outputs": [
    {
     "data": {
      "text/plain": [
       "[(0, 'b'), (1, 'u'), (2, 'n'), (3, 'n'), (4, 'y')]"
      ]
     },
     "execution_count": 11,
     "metadata": {},
     "output_type": "execute_result"
    }
   ],
   "source": [
    "list(enumerate(str1))"
   ]
  },
  {
   "cell_type": "code",
   "execution_count": 14,
   "id": "7502f5aa",
   "metadata": {},
   "outputs": [],
   "source": [
    "list1=[1,2,4,5,6]\n",
    "list2=['a','s','c','f','d','k']"
   ]
  },
  {
   "cell_type": "code",
   "execution_count": 15,
   "id": "90310753",
   "metadata": {},
   "outputs": [
    {
     "data": {
      "text/plain": [
       "[(1, 'a'), (2, 's'), (4, 'c'), (5, 'f'), (6, 'd')]"
      ]
     },
     "execution_count": 15,
     "metadata": {},
     "output_type": "execute_result"
    }
   ],
   "source": [
    "list(zip(list1,list2))"
   ]
  },
  {
   "cell_type": "code",
   "execution_count": 16,
   "id": "a63e7d84",
   "metadata": {},
   "outputs": [
    {
     "data": {
      "text/plain": [
       "True"
      ]
     },
     "execution_count": 16,
     "metadata": {},
     "output_type": "execute_result"
    }
   ],
   "source": [
    "'x'in ['v','x','y','z']"
   ]
  },
  {
   "cell_type": "code",
   "execution_count": 17,
   "id": "14a0a49a",
   "metadata": {},
   "outputs": [
    {
     "data": {
      "text/plain": [
       "50"
      ]
     },
     "execution_count": 17,
     "metadata": {},
     "output_type": "execute_result"
    }
   ],
   "source": [
    "max([10,20,30,40,50])"
   ]
  },
  {
   "cell_type": "code",
   "execution_count": 18,
   "id": "7c520dac",
   "metadata": {},
   "outputs": [
    {
     "data": {
      "text/plain": [
       "10"
      ]
     },
     "execution_count": 18,
     "metadata": {},
     "output_type": "execute_result"
    }
   ],
   "source": [
    "min([10,20,30,40,50,60])"
   ]
  },
  {
   "cell_type": "code",
   "execution_count": 20,
   "id": "ec54e2ad",
   "metadata": {},
   "outputs": [
    {
     "data": {
      "text/plain": [
       "8"
      ]
     },
     "execution_count": 20,
     "metadata": {},
     "output_type": "execute_result"
    }
   ],
   "source": [
    "from random import randint\n",
    "randint(1,11)"
   ]
  },
  {
   "cell_type": "code",
   "execution_count": 21,
   "id": "3bf0b1e8",
   "metadata": {},
   "outputs": [
    {
     "name": "stdout",
     "output_type": "stream",
     "text": [
      "Enter the number11\n"
     ]
    }
   ],
   "source": [
    "a=int(input(\"Enter the number\"))"
   ]
  },
  {
   "cell_type": "code",
   "execution_count": null,
   "id": "954f698e",
   "metadata": {},
   "outputs": [],
   "source": []
  }
 ],
 "metadata": {
  "kernelspec": {
   "display_name": "Python 3 (ipykernel)",
   "language": "python",
   "name": "python3"
  },
  "language_info": {
   "codemirror_mode": {
    "name": "ipython",
    "version": 3
   },
   "file_extension": ".py",
   "mimetype": "text/x-python",
   "name": "python",
   "nbconvert_exporter": "python",
   "pygments_lexer": "ipython3",
   "version": "3.10.8"
  }
 },
 "nbformat": 4,
 "nbformat_minor": 5
}
