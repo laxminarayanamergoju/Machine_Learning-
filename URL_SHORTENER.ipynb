{
 "cells": [
  {
   "cell_type": "code",
   "execution_count": 2,
   "id": "ca47bc44",
   "metadata": {},
   "outputs": [],
   "source": [
    "#to short the url"
   ]
  },
  {
   "cell_type": "code",
   "execution_count": 15,
   "id": "600e98dc",
   "metadata": {},
   "outputs": [],
   "source": [
    "import pyshorteners"
   ]
  },
  {
   "cell_type": "code",
   "execution_count": 16,
   "id": "083058ef",
   "metadata": {},
   "outputs": [],
   "source": [
    "def short_url(url):\n",
    "    shorter = pyshorteners.Shortener()\n",
    "    a = shorter.tinyurl.short(url)\n",
    "    return a\n",
    "\n"
   ]
  },
  {
   "cell_type": "code",
   "execution_count": 17,
   "id": "f07e8dc1",
   "metadata": {},
   "outputs": [
    {
     "name": "stdout",
     "output_type": "stream",
     "text": [
      "https://tinyurl.com/2bkmk4tq\n"
     ]
    }
   ],
   "source": [
    "url_data = \"https://www.youtube.com/@laxminarayanamergoju291\"\n",
    "print(short_url(url_data))"
   ]
  },
  {
   "cell_type": "code",
   "execution_count": null,
   "id": "3b3e79ab",
   "metadata": {},
   "outputs": [],
   "source": []
  }
 ],
 "metadata": {
  "kernelspec": {
   "display_name": "Python 3 (ipykernel)",
   "language": "python",
   "name": "python3"
  },
  "language_info": {
   "codemirror_mode": {
    "name": "ipython",
    "version": 3
   },
   "file_extension": ".py",
   "mimetype": "text/x-python",
   "name": "python",
   "nbconvert_exporter": "python",
   "pygments_lexer": "ipython3",
   "version": "3.10.8"
  }
 },
 "nbformat": 4,
 "nbformat_minor": 5
}
